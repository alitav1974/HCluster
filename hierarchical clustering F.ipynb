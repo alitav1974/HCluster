{
 "cells": [
  {
   "cell_type": "code",
   "execution_count": null,
   "id": "a1972291",
   "metadata": {},
   "outputs": [],
   "source": [
    "#import liberary\n",
    "import pandas as pd\n",
    "import numpy as np\n",
    "import matplotlib.pyplot as plt\n",
    "import itertools\n",
    "import seaborn as sns\n",
    "import sklearn"
   ]
  },
  {
   "cell_type": "code",
   "execution_count": null,
   "id": "d07d7e33",
   "metadata": {},
   "outputs": [],
   "source": [
    "#read data\n",
    "df = pd.read_csv('/Volumes/TRANSCEND/Thesies/Data.csv')"
   ]
  },
  {
   "cell_type": "code",
   "execution_count": null,
   "id": "ce805318",
   "metadata": {},
   "outputs": [],
   "source": [
    "#drop unnesesary column\n",
    "to_drop = ['Unnamed: 0', 'Unnamed: 0.1']\n",
    "df.drop(to_drop, inplace=True, axis=1)"
   ]
  },
  {
   "cell_type": "code",
   "execution_count": null,
   "id": "bf1048e7",
   "metadata": {},
   "outputs": [],
   "source": [
    "# filter date\n",
    "df_1=df[df[\"reg_date\"] < 13990201]"
   ]
  },
  {
   "cell_type": "code",
   "execution_count": null,
   "id": "c7c4217b",
   "metadata": {},
   "outputs": [],
   "source": [
    "df_1=df_1[df_1[\"reg_date\"] > 13990130]"
   ]
  },
  {
   "cell_type": "code",
   "execution_count": null,
   "id": "6a98b5c2",
   "metadata": {},
   "outputs": [],
   "source": [
    "df_1"
   ]
  },
  {
   "cell_type": "code",
   "execution_count": null,
   "id": "b8ade6e1",
   "metadata": {},
   "outputs": [],
   "source": [
    "# all non numeric data deleted\n",
    "numeric_data = df_1.apply(pd.to_numeric, errors='coerce').dropna()"
   ]
  },
  {
   "cell_type": "code",
   "execution_count": null,
   "id": "3d6efc4f",
   "metadata": {},
   "outputs": [],
   "source": [
    "numeric_data.info()"
   ]
  },
  {
   "cell_type": "code",
   "execution_count": null,
   "id": "759d494a",
   "metadata": {},
   "outputs": [],
   "source": [
    "df_1.astype(str).astype(int)"
   ]
  },
  {
   "cell_type": "code",
   "execution_count": null,
   "id": "39b82178",
   "metadata": {},
   "outputs": [],
   "source": [
    "df_1.info()"
   ]
  },
  {
   "cell_type": "code",
   "execution_count": null,
   "id": "5b0666ad",
   "metadata": {},
   "outputs": [],
   "source": [
    "df_1['serv_cod'] = df_1['serv_cod'].astype('int')"
   ]
  },
  {
   "cell_type": "code",
   "execution_count": null,
   "id": "e86f737c",
   "metadata": {},
   "outputs": [],
   "source": [
    "df_1.info()"
   ]
  },
  {
   "cell_type": "code",
   "execution_count": null,
   "id": "3f56c5e0",
   "metadata": {},
   "outputs": [],
   "source": [
    "df_1[['doc_id','serv_cod','patient_id', 'lab_id', 'reg_date', 'req_id', 'item_price']] = df_1[['doc_id', 'serv_cod','patient_id', 'lab_id', 'reg_date', 'req_id', 'item_price']].astype('int8')"
   ]
  },
  {
   "cell_type": "code",
   "execution_count": null,
   "id": "083cd616",
   "metadata": {},
   "outputs": [],
   "source": [
    "df_1.info()"
   ]
  },
  {
   "cell_type": "code",
   "execution_count": null,
   "id": "949a67c0",
   "metadata": {},
   "outputs": [],
   "source": [
    "df1=pd.get_dummies(numeric_data,columns=[\"lab_id\"])   "
   ]
  },
  {
   "cell_type": "code",
   "execution_count": null,
   "id": "4b8eb201",
   "metadata": {},
   "outputs": [],
   "source": [
    "df2=pd.get_dummies(df1,columns=[\"serv_cod\"])"
   ]
  },
  {
   "cell_type": "code",
   "execution_count": null,
   "id": "ab9cfe43",
   "metadata": {},
   "outputs": [],
   "source": [
    "df3=pd.get_dummies(df2,columns=[\"doc_id\"])    "
   ]
  },
  {
   "cell_type": "code",
   "execution_count": null,
   "id": "813d3674",
   "metadata": {},
   "outputs": [],
   "source": [
    "df4=pd.get_dummies(df3,columns=[\"patient_id\"])"
   ]
  },
  {
   "cell_type": "code",
   "execution_count": null,
   "id": "8d20528f",
   "metadata": {},
   "outputs": [],
   "source": [
    "from sklearn.preprocessing import StandardScaler"
   ]
  },
  {
   "cell_type": "code",
   "execution_count": null,
   "id": "beb0eaf9",
   "metadata": {},
   "outputs": [],
   "source": [
    "X=StandardScaler().fit_transform(df4)"
   ]
  },
  {
   "cell_type": "code",
   "execution_count": null,
   "id": "1dcfdff8",
   "metadata": {},
   "outputs": [],
   "source": [
    "import scipy.cluster.hierarchy as shc\n",
    "\n",
    "k = shc.linkage(df4, method='ward')\n",
    "\n",
    "dend = shc.dendrogram(k)  "
   ]
  },
  {
   "cell_type": "code",
   "execution_count": null,
   "id": "67d29386",
   "metadata": {},
   "outputs": [],
   "source": [
    "from sklearn import cluster, datasets"
   ]
  },
  {
   "cell_type": "code",
   "execution_count": null,
   "id": "08f67486",
   "metadata": {},
   "outputs": [],
   "source": [
    "w2 = cluster.AgglomerativeClustering(n_clusters=2, linkage='ward').fit(df4)\n",
    "w3 = cluster.AgglomerativeClustering(n_clusters=3, linkage='ward').fit(df4)\n",
    "w4 = cluster.AgglomerativeClustering(n_clusters=4, linkage='ward').fit(df4)"
   ]
  },
  {
   "cell_type": "code",
   "execution_count": null,
   "id": "efac6c8b",
   "metadata": {},
   "outputs": [],
   "source": [
    "plt.figure(figsize=(15, 10))\n",
    "\n",
    "plt.subplot(131)\n",
    "plt.scatter(x[:, 0], x[:, 1], c=w2.labels_)\n",
    "plt.title(\"K=2\")\n",
    "\n",
    "plt.subplot(132)\n",
    "plt.scatter(x[:, 0], x[:, 1], c=w3.labels_)\n",
    "plt.title(\"K=3\")\n",
    "\n",
    "plt.subplot(133)\n",
    "plt.scatter(x[:, 0], x[:, 1], c=w4.labels_) \n",
    "plt.title(\"K=4\")"
   ]
  },
  {
   "cell_type": "code",
   "execution_count": null,
   "id": "6baab3bd",
   "metadata": {},
   "outputs": [],
   "source": [
    "dbscan = DBSCAN(eps=2,min_samples=20)"
   ]
  },
  {
   "cell_type": "code",
   "execution_count": null,
   "id": "311207e4",
   "metadata": {},
   "outputs": [],
   "source": [
    "dbscan.fit(df4) "
   ]
  }
 ],
 "metadata": {
  "kernelspec": {
   "display_name": "Python 3",
   "language": "python",
   "name": "python3"
  },
  "language_info": {
   "codemirror_mode": {
    "name": "ipython",
    "version": 3
   },
   "file_extension": ".py",
   "mimetype": "text/x-python",
   "name": "python",
   "nbconvert_exporter": "python",
   "pygments_lexer": "ipython3",
   "version": "3.8.8"
  }
 },
 "nbformat": 4,
 "nbformat_minor": 5
}
